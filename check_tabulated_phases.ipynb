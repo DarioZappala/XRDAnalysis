{
 "cells": [
  {
   "cell_type": "markdown",
   "id": "f2cca6d4",
   "metadata": {},
   "source": [
    "# Imports and definitions"
   ]
  },
  {
   "cell_type": "code",
   "execution_count": 1,
   "id": "ef36e9e6",
   "metadata": {},
   "outputs": [],
   "source": [
    "from XRDXRFutils.notebook_utils import *\n",
    "from os.path import basename\n",
    "\n",
    "#path_shared = '/home/shared/'\n",
    "path_shared = '../../shared/'\n",
    "\n",
    "path_database = path_shared + 'Database16_42_da_sistemare/'   # tabulated phases"
   ]
  },
  {
   "cell_type": "markdown",
   "id": "26564065",
   "metadata": {},
   "source": [
    "# Read phase database"
   ]
  },
  {
   "cell_type": "code",
   "execution_count": 2,
   "id": "48650107-7fe2-4c96-9cf2-3629d991fcd2",
   "metadata": {},
   "outputs": [],
   "source": [
    "filenames = sorted(glob(path_database + '/*.cif'))\n",
    "if not filenames:\n",
    "    warnings.warn('No files found')"
   ]
  },
  {
   "cell_type": "code",
   "execution_count": 3,
   "id": "b139ef81-13f8-4795-aed0-97295770c81b",
   "metadata": {},
   "outputs": [
    {
     "data": {
      "text/plain": [
       "1337"
      ]
     },
     "execution_count": 3,
     "metadata": {},
     "output_type": "execute_result"
    }
   ],
   "source": [
    "len(filenames)"
   ]
  },
  {
   "cell_type": "markdown",
   "id": "a4d7b7c0-5a8f-4d56-ae8b-75152a895b38",
   "metadata": {},
   "source": [
    "# Check phases"
   ]
  },
  {
   "cell_type": "code",
   "execution_count": 4,
   "id": "22d8751d-577c-4322-908d-32df234a2bd3",
   "metadata": {},
   "outputs": [],
   "source": [
    "filenames_to_fix = []\n",
    "\n",
    "for filename in filenames:\n",
    "    phase = Phase(name = filename)\n",
    "    with open(filename, 'r') as f:\n",
    "        for line in f:\n",
    "            x = line.split()\n",
    "            if x:\n",
    "                y = x[0]\n",
    "\n",
    "                if y in ['_chemical_formula_sum', '_chemical_name_mineral', '_chemical_name_common']:\n",
    "                    value = ' '.join(x[1:]).replace(\"'\", '')\n",
    "                    value = value.strip()\n",
    "                    if value != '':\n",
    "                        phase[y] = value\n",
    "\n",
    "                if y == 'name':\n",
    "                    phase[y] = ' '.join(x[1:]).replace(\"'\", '')\n",
    "\n",
    "                if y == 'point':\n",
    "                    phase[y] = int(x[1])\n",
    "\n",
    "                if y == '_pd_peak_intensity':\n",
    "                    z = loadtxt(f, unpack = True, dtype = float)\n",
    "                    phase[y] = z\n",
    "    #if ('_chemical_formula_sum' not in phase.keys()):\n",
    "    #if ('_chemical_name_mineral' not in phase.keys()):\n",
    "#    if ( # If one of the two names exists and is the same as chemical formula, or if no name exists\n",
    "#        ( ('_chemical_name_common' in phase.keys()) and ('_chemical_formula_sum' in phase.keys()) and (phase['_chemical_name_common'] == phase['_chemical_formula_sum']) ) or\n",
    "#        ( ('_chemical_name_mineral' in phase.keys()) and ('_chemical_formula_sum' in phase.keys()) and (phase['_chemical_name_mineral'] == phase['_chemical_formula_sum']) ) or\n",
    "#        ( ('_chemical_name_mineral' not in phase.keys()) and ('_chemical_name_common' not in phase.keys()) )\n",
    "#    ):\n",
    "    if ( # If name is a permutation of chemical formula\n",
    "        ('_chemical_name_common' in phase.keys()) and ('_chemical_formula_sum' in phase.keys()) and\n",
    "        (len(phase['_chemical_name_common']) == len(phase['_chemical_formula_sum'])) and (sorted(phase['_chemical_name_common']) == sorted(phase['_chemical_formula_sum']))\n",
    "    ):\n",
    "        filenames_to_fix.append(basename(filename))"
   ]
  },
  {
   "cell_type": "code",
   "execution_count": 5,
   "id": "75a98e05-5180-48c4-846e-70d1d4f51b6d",
   "metadata": {},
   "outputs": [
    {
     "name": "stdout",
     "output_type": "stream",
     "text": [
      "0\n"
     ]
    }
   ],
   "source": [
    "print(len(filenames_to_fix))\n",
    "for f in filenames_to_fix:\n",
    "    print(f)"
   ]
  },
  {
   "cell_type": "markdown",
   "id": "f4a56e54-41ef-48c6-b593-447b0edaf5e1",
   "metadata": {},
   "source": [
    "### View phase database"
   ]
  },
  {
   "cell_type": "code",
   "execution_count": 6,
   "id": "1e49198e-53ff-4919-8d5e-85e381d22b83",
   "metadata": {},
   "outputs": [
    {
     "name": "stdout",
     "output_type": "stream",
     "text": [
      "Reading phases from: ../../shared/Database16_42_da_sistemare/\n",
      "Total number of phases: 401\n"
     ]
    },
    {
     "data": {
      "text/html": [
       "<div>\n",
       "<style scoped>\n",
       "    .dataframe tbody tr th:only-of-type {\n",
       "        vertical-align: middle;\n",
       "    }\n",
       "\n",
       "    .dataframe tbody tr th {\n",
       "        vertical-align: top;\n",
       "    }\n",
       "\n",
       "    .dataframe thead th {\n",
       "        text-align: right;\n",
       "    }\n",
       "</style>\n",
       "<table border=\"1\" class=\"dataframe\">\n",
       "  <thead>\n",
       "    <tr style=\"text-align: right;\">\n",
       "      <th></th>\n",
       "      <th>Name in database</th>\n",
       "      <th>Chemical formula</th>\n",
       "      <th>N. of samples</th>\n",
       "    </tr>\n",
       "  </thead>\n",
       "  <tbody>\n",
       "    <tr>\n",
       "      <th>0</th>\n",
       "      <td>((H2 N)2 (Fe (C O)3)2)</td>\n",
       "      <td>C6 H4 Fe2 N2 O6</td>\n",
       "      <td>1</td>\n",
       "    </tr>\n",
       "    <tr>\n",
       "      <th>1</th>\n",
       "      <td>(N H4)4 (Fe (C N)6) (H2 O)1.5</td>\n",
       "      <td>C6 H19 Fe N10 O1.5</td>\n",
       "      <td>1</td>\n",
       "    </tr>\n",
       "    <tr>\n",
       "      <th>2</th>\n",
       "      <td>(Pb O) (Pb (Cr O4))</td>\n",
       "      <td>Cr O5 Pb2</td>\n",
       "      <td>1</td>\n",
       "    </tr>\n",
       "    <tr>\n",
       "      <th>3</th>\n",
       "      <td>4-Ferrocenylmethylene-2-phenyl-4H-oxazol-5-one</td>\n",
       "      <td>C20 H15 Fe N O2</td>\n",
       "      <td>1</td>\n",
       "    </tr>\n",
       "    <tr>\n",
       "      <th>4</th>\n",
       "      <td>Akaganeite</td>\n",
       "      <td>Cl0.675 Fe4 O8</td>\n",
       "      <td>2</td>\n",
       "    </tr>\n",
       "    <tr>\n",
       "      <th>...</th>\n",
       "      <td>...</td>\n",
       "      <td>...</td>\n",
       "      <td>...</td>\n",
       "    </tr>\n",
       "    <tr>\n",
       "      <th>396</th>\n",
       "      <td>magnesium sulfate</td>\n",
       "      <td>Mg O4 S</td>\n",
       "      <td>4</td>\n",
       "    </tr>\n",
       "    <tr>\n",
       "      <th>397</th>\n",
       "      <td>shattuckite</td>\n",
       "      <td>Cu5 H2 O14 Si4</td>\n",
       "      <td>1</td>\n",
       "    </tr>\n",
       "    <tr>\n",
       "      <th>398</th>\n",
       "      <td>zinc_oxide</td>\n",
       "      <td>O Zn</td>\n",
       "      <td>5</td>\n",
       "    </tr>\n",
       "    <tr>\n",
       "      <th>399</th>\n",
       "      <td>zincian paratacamite, syn</td>\n",
       "      <td>Cl2 Cu3.58 H6 O6 Zn0.42</td>\n",
       "      <td>2</td>\n",
       "    </tr>\n",
       "    <tr>\n",
       "      <th>400</th>\n",
       "      <td>zincite</td>\n",
       "      <td>O Zn</td>\n",
       "      <td>1</td>\n",
       "    </tr>\n",
       "  </tbody>\n",
       "</table>\n",
       "<p>401 rows × 3 columns</p>\n",
       "</div>"
      ],
      "text/plain": [
       "                                   Name in database         Chemical formula  \\\n",
       "0                            ((H2 N)2 (Fe (C O)3)2)          C6 H4 Fe2 N2 O6   \n",
       "1                     (N H4)4 (Fe (C N)6) (H2 O)1.5       C6 H19 Fe N10 O1.5   \n",
       "2                               (Pb O) (Pb (Cr O4))                Cr O5 Pb2   \n",
       "3    4-Ferrocenylmethylene-2-phenyl-4H-oxazol-5-one          C20 H15 Fe N O2   \n",
       "4                                        Akaganeite           Cl0.675 Fe4 O8   \n",
       "..                                              ...                      ...   \n",
       "396                               magnesium sulfate                  Mg O4 S   \n",
       "397                                     shattuckite           Cu5 H2 O14 Si4   \n",
       "398                                      zinc_oxide                     O Zn   \n",
       "399                       zincian paratacamite, syn  Cl2 Cu3.58 H6 O6 Zn0.42   \n",
       "400                                         zincite                     O Zn   \n",
       "\n",
       "     N. of samples  \n",
       "0                1  \n",
       "1                1  \n",
       "2                1  \n",
       "3                1  \n",
       "4                2  \n",
       "..             ...  \n",
       "396              4  \n",
       "397              1  \n",
       "398              5  \n",
       "399              2  \n",
       "400              1  \n",
       "\n",
       "[401 rows x 3 columns]"
      ]
     },
     "execution_count": 6,
     "metadata": {},
     "output_type": "execute_result"
    }
   ],
   "source": [
    "print('Reading phases from: ' + path_database)\n",
    "database = DatabaseXRD().read_cifs(path_database)\n",
    "print(f'Total number of phases: {len(database)}')\n",
    "\n",
    "df_phases = DataFrame(columns = ['Name in database', 'Chemical formula', 'N. of samples'])\n",
    "for phase_name, phase_set in sorted(database.items()):\n",
    "    p = phase_set[0]\n",
    "    if '_chemical_formula_sum' in p:\n",
    "        formula = p['_chemical_formula_sum']\n",
    "    else:\n",
    "        formula = None\n",
    "    df_phases.loc[len(df_phases)] = [phase_name, formula, len(phase_set)]\n",
    "elements_excluded = []\n",
    "df_phases"
   ]
  },
  {
   "cell_type": "markdown",
   "id": "a214afcb-ae0b-4509-b717-ea90397dde9b",
   "metadata": {},
   "source": [
    "### View phases with same chemical formula and multiple names"
   ]
  },
  {
   "cell_type": "code",
   "execution_count": 7,
   "id": "36703858-3512-4b32-86ea-4c8a9a776630",
   "metadata": {},
   "outputs": [
    {
     "data": {
      "text/html": [
       "<div>\n",
       "<style scoped>\n",
       "    .dataframe tbody tr th:only-of-type {\n",
       "        vertical-align: middle;\n",
       "    }\n",
       "\n",
       "    .dataframe tbody tr th {\n",
       "        vertical-align: top;\n",
       "    }\n",
       "\n",
       "    .dataframe thead th {\n",
       "        text-align: right;\n",
       "    }\n",
       "</style>\n",
       "<table border=\"1\" class=\"dataframe\">\n",
       "  <thead>\n",
       "    <tr style=\"text-align: right;\">\n",
       "      <th></th>\n",
       "      <th>Chemical formula</th>\n",
       "      <th>Name in database</th>\n",
       "    </tr>\n",
       "  </thead>\n",
       "  <tbody>\n",
       "    <tr>\n",
       "      <th>0</th>\n",
       "      <td>Al</td>\n",
       "      <td>2</td>\n",
       "    </tr>\n",
       "    <tr>\n",
       "      <th>1</th>\n",
       "      <td>Al H3 O3</td>\n",
       "      <td>6</td>\n",
       "    </tr>\n",
       "    <tr>\n",
       "      <th>2</th>\n",
       "      <td>Al2 Co O4</td>\n",
       "      <td>3</td>\n",
       "    </tr>\n",
       "    <tr>\n",
       "      <th>3</th>\n",
       "      <td>Al2 H4 O9 Si2</td>\n",
       "      <td>3</td>\n",
       "    </tr>\n",
       "    <tr>\n",
       "      <th>4</th>\n",
       "      <td>Al2 O3</td>\n",
       "      <td>7</td>\n",
       "    </tr>\n",
       "    <tr>\n",
       "      <th>...</th>\n",
       "      <td>...</td>\n",
       "      <td>...</td>\n",
       "    </tr>\n",
       "    <tr>\n",
       "      <th>58</th>\n",
       "      <td>O2 Si</td>\n",
       "      <td>9</td>\n",
       "    </tr>\n",
       "    <tr>\n",
       "      <th>59</th>\n",
       "      <td>O2 Ti</td>\n",
       "      <td>3</td>\n",
       "    </tr>\n",
       "    <tr>\n",
       "      <th>60</th>\n",
       "      <td>O4 Pb S</td>\n",
       "      <td>2</td>\n",
       "    </tr>\n",
       "    <tr>\n",
       "      <th>61</th>\n",
       "      <td>S Zn</td>\n",
       "      <td>8</td>\n",
       "    </tr>\n",
       "    <tr>\n",
       "      <th>62</th>\n",
       "      <td>S2 Sn</td>\n",
       "      <td>2</td>\n",
       "    </tr>\n",
       "  </tbody>\n",
       "</table>\n",
       "<p>63 rows × 2 columns</p>\n",
       "</div>"
      ],
      "text/plain": [
       "   Chemical formula  Name in database\n",
       "0                Al                 2\n",
       "1          Al H3 O3                 6\n",
       "2         Al2 Co O4                 3\n",
       "3     Al2 H4 O9 Si2                 3\n",
       "4            Al2 O3                 7\n",
       "..              ...               ...\n",
       "58            O2 Si                 9\n",
       "59            O2 Ti                 3\n",
       "60          O4 Pb S                 2\n",
       "61             S Zn                 8\n",
       "62            S2 Sn                 2\n",
       "\n",
       "[63 rows x 2 columns]"
      ]
     },
     "execution_count": 7,
     "metadata": {},
     "output_type": "execute_result"
    }
   ],
   "source": [
    "df_stats = df_phases.groupby('Chemical formula')[['Name in database']].count()\n",
    "df_stats = df_stats[df_stats['Name in database'] > 1].reset_index()\n",
    "df_stats"
   ]
  },
  {
   "cell_type": "code",
   "execution_count": 11,
   "id": "61968f73-fe2b-4592-879d-3a4ba328c196",
   "metadata": {},
   "outputs": [
    {
     "data": {
      "text/html": [
       "<div>\n",
       "<style scoped>\n",
       "    .dataframe tbody tr th:only-of-type {\n",
       "        vertical-align: middle;\n",
       "    }\n",
       "\n",
       "    .dataframe tbody tr th {\n",
       "        vertical-align: top;\n",
       "    }\n",
       "\n",
       "    .dataframe thead th {\n",
       "        text-align: right;\n",
       "    }\n",
       "</style>\n",
       "<table border=\"1\" class=\"dataframe\">\n",
       "  <thead>\n",
       "    <tr style=\"text-align: right;\">\n",
       "      <th></th>\n",
       "      <th>Name in database</th>\n",
       "      <th>Chemical formula</th>\n",
       "      <th>N. of samples</th>\n",
       "    </tr>\n",
       "  </thead>\n",
       "  <tbody>\n",
       "    <tr>\n",
       "      <th>378</th>\n",
       "      <td>Zinc oxide</td>\n",
       "      <td>O Zn</td>\n",
       "      <td>3</td>\n",
       "    </tr>\n",
       "    <tr>\n",
       "      <th>380</th>\n",
       "      <td>Zincite</td>\n",
       "      <td>O Zn</td>\n",
       "      <td>8</td>\n",
       "    </tr>\n",
       "    <tr>\n",
       "      <th>398</th>\n",
       "      <td>zinc_oxide</td>\n",
       "      <td>O Zn</td>\n",
       "      <td>5</td>\n",
       "    </tr>\n",
       "    <tr>\n",
       "      <th>400</th>\n",
       "      <td>zincite</td>\n",
       "      <td>O Zn</td>\n",
       "      <td>1</td>\n",
       "    </tr>\n",
       "  </tbody>\n",
       "</table>\n",
       "</div>"
      ],
      "text/plain": [
       "    Name in database Chemical formula  N. of samples\n",
       "378       Zinc oxide             O Zn              3\n",
       "380          Zincite             O Zn              8\n",
       "398       zinc_oxide             O Zn              5\n",
       "400          zincite             O Zn              1"
      ]
     },
     "execution_count": 11,
     "metadata": {},
     "output_type": "execute_result"
    }
   ],
   "source": [
    "df_phases[df_phases['Chemical formula'] == 'O Zn']\n",
    "#df_phases[df_phases['Chemical formula'] == 'Al H3 O3']"
   ]
  },
  {
   "cell_type": "markdown",
   "id": "d38b2034-e9b0-4336-a2d4-ff83d47ce955",
   "metadata": {},
   "source": [
    "### View phases with same name and multiple chemical formulas"
   ]
  },
  {
   "cell_type": "code",
   "execution_count": 10,
   "id": "84464fea-b060-4349-9f87-7f600a821538",
   "metadata": {},
   "outputs": [
    {
     "data": {
      "text/html": [
       "<div>\n",
       "<style scoped>\n",
       "    .dataframe tbody tr th:only-of-type {\n",
       "        vertical-align: middle;\n",
       "    }\n",
       "\n",
       "    .dataframe tbody tr th {\n",
       "        vertical-align: top;\n",
       "    }\n",
       "\n",
       "    .dataframe thead th {\n",
       "        text-align: right;\n",
       "    }\n",
       "</style>\n",
       "<table border=\"1\" class=\"dataframe\">\n",
       "  <thead>\n",
       "    <tr style=\"text-align: right;\">\n",
       "      <th></th>\n",
       "      <th>Name in database</th>\n",
       "      <th>Chemical formula</th>\n",
       "    </tr>\n",
       "  </thead>\n",
       "  <tbody>\n",
       "  </tbody>\n",
       "</table>\n",
       "</div>"
      ],
      "text/plain": [
       "Empty DataFrame\n",
       "Columns: [Name in database, Chemical formula]\n",
       "Index: []"
      ]
     },
     "execution_count": 10,
     "metadata": {},
     "output_type": "execute_result"
    }
   ],
   "source": [
    "df_stats = df_phases.groupby('Name in database')[['Chemical formula']].count()\n",
    "df_stats = df_stats[df_stats['Chemical formula'] > 1].reset_index()\n",
    "df_stats"
   ]
  },
  {
   "cell_type": "code",
   "execution_count": null,
   "id": "6229eeb1-32d7-4960-9e0c-94eb70cdb632",
   "metadata": {},
   "outputs": [],
   "source": []
  }
 ],
 "metadata": {
  "interpreter": {
   "hash": "fba4e8dc88805d46805dc5e697da753b9c5f29f54defc772ea9b56a1fe31ab27"
  },
  "kernelspec": {
   "display_name": "Python 3 (ipykernel)",
   "language": "python",
   "name": "python3"
  },
  "language_info": {
   "codemirror_mode": {
    "name": "ipython",
    "version": 3
   },
   "file_extension": ".py",
   "mimetype": "text/x-python",
   "name": "python",
   "nbconvert_exporter": "python",
   "pygments_lexer": "ipython3",
   "version": "3.10.8"
  }
 },
 "nbformat": 4,
 "nbformat_minor": 5
}
